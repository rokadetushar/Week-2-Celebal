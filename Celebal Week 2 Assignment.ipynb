{
  "nbformat": 4,
  "nbformat_minor": 0,
  "metadata": {
    "colab": {
      "name": "Untitled0.ipynb",
      "provenance": []
    },
    "kernelspec": {
      "name": "python3",
      "display_name": "Python 3"
    },
    "language_info": {
      "name": "python"
    }
  },
  "cells": [
    {
      "cell_type": "markdown",
      "source": [
        "OPERATOR"
      ],
      "metadata": {
        "id": "ytQ-bKgyM3Sx"
      }
    },
    {
      "cell_type": "code",
      "execution_count": 1,
      "metadata": {
        "colab": {
          "base_uri": "https://localhost:8080/",
          "height": 0
        },
        "id": "he5FpTVbMoF9",
        "outputId": "7c77467a-6647-41e2-dea1-1158f1a04f15"
      },
      "outputs": [
        {
          "output_type": "stream",
          "name": "stdout",
          "text": [
            "x + y = 20\n",
            "x - y = -4\n",
            "x * y = 96\n",
            "x / y = 0.6666666666666666\n",
            "x // y = 0\n",
            "x ** y = 68719476736\n"
          ]
        }
      ],
      "source": [
        "x = 8\n",
        "y = 12\n",
        "\n",
        "print('x + y =',x+y)\n",
        "\n",
        "print('x - y =',x-y)\n",
        "\n",
        "print('x * y =',x*y)\n",
        "\n",
        "print('x / y =',x/y)\n",
        "\n",
        "print('x // y =',x//y)\n",
        "\n",
        "print('x ** y =',x**y)"
      ]
    },
    {
      "cell_type": "markdown",
      "source": [
        "Comparison operators in Python"
      ],
      "metadata": {
        "id": "1M5qPf5sObTZ"
      }
    },
    {
      "cell_type": "code",
      "source": [
        "#  Python program to show\n",
        "# shift operators\n",
        "\n",
        "a = 50\n",
        "b = -50\n",
        "\n",
        "# print bitwise right shift operator\n",
        "print(\"a >> 1 =\", a >> 1)\n",
        "print(\"b >> 1 =\", b >> 1)\n",
        "\n",
        "a = 7\n",
        "b = -10\n",
        "\n",
        "# print bitwise left shift operator\n",
        "print(\"a << 1 =\", a << 1)\n",
        "print(\"b << 1 =\", b << 1)"
      ],
      "metadata": {
        "colab": {
          "base_uri": "https://localhost:8080/"
        },
        "id": "rOfHwkLoN1Wh",
        "outputId": "ff76b28d-29b7-477b-cd78-230827bda7d8"
      },
      "execution_count": 3,
      "outputs": [
        {
          "output_type": "stream",
          "name": "stdout",
          "text": [
            "a >> 1 = 25\n",
            "b >> 1 = -25\n",
            "a << 1 = 14\n",
            "b << 1 = -20\n"
          ]
        }
      ]
    },
    {
      "cell_type": "markdown",
      "source": [
        "logical  operator"
      ],
      "metadata": {
        "id": "JlN5yc_jOvWR"
      }
    },
    {
      "cell_type": "code",
      "source": [
        "x = True\n",
        "y = False\n",
        "\n",
        "print('x and y is',x and y)\n",
        "\n",
        "print('x or y is',x or y)\n",
        "\n",
        "print('not x is',not x)"
      ],
      "metadata": {
        "colab": {
          "base_uri": "https://localhost:8080/"
        },
        "id": "pBWeeiqvOeoY",
        "outputId": "370f60da-9224-4d23-cca0-db53cc2f9218"
      },
      "execution_count": 4,
      "outputs": [
        {
          "output_type": "stream",
          "name": "stdout",
          "text": [
            "x and y is False\n",
            "x or y is True\n",
            "not x is False\n"
          ]
        }
      ]
    },
    {
      "cell_type": "markdown",
      "source": [
        "identity operator"
      ],
      "metadata": {
        "id": "8PweQ_uCPRbL"
      }
    },
    {
      "cell_type": "code",
      "source": [
        "x1 = 6\n",
        "y1 = 7\n",
        "x2 = 'Hello'\n",
        "y2 = 'Hello'\n",
        "x3 = [1,2,3]\n",
        "y3 = [1,2,3]\n",
        "\n",
        "print(x1 is not y1)\n",
        "\n",
        "print(x2 is y2)\n",
        "\n",
        "print(x3 is y3)"
      ],
      "metadata": {
        "colab": {
          "base_uri": "https://localhost:8080/"
        },
        "id": "y7GV_UluPGWW",
        "outputId": "8c18d03f-51fe-49fb-88af-6e2598eb4ae9"
      },
      "execution_count": 6,
      "outputs": [
        {
          "output_type": "stream",
          "name": "stdout",
          "text": [
            "True\n",
            "True\n",
            "False\n"
          ]
        }
      ]
    },
    {
      "cell_type": "markdown",
      "source": [
        "Membership operator"
      ],
      "metadata": {
        "id": "igFV5Y3TP9pE"
      }
    },
    {
      "cell_type": "code",
      "source": [
        "x = 'world is beauty of god'\n",
        "y = {5:'a',2:'b'}\n",
        "\n",
        "print('H' in x)\n",
        "\n",
        "print('gd' not in x)\n",
        "\n",
        "print(1 in y)\n",
        "\n",
        "print('b' in y)"
      ],
      "metadata": {
        "colab": {
          "base_uri": "https://localhost:8080/"
        },
        "id": "XQEl49WWPWq1",
        "outputId": "05bd5d83-ce36-41d3-a73f-2838264ceb00"
      },
      "execution_count": 8,
      "outputs": [
        {
          "output_type": "stream",
          "name": "stdout",
          "text": [
            "False\n",
            "True\n",
            "False\n",
            "False\n"
          ]
        }
      ]
    },
    {
      "cell_type": "markdown",
      "source": [
        "if statement"
      ],
      "metadata": {
        "id": "MNw-BPjIQ0FN"
      }
    },
    {
      "cell_type": "code",
      "source": [
        "num = 0\n",
        "if num > 0:\n",
        "    print(num, \"is a positive number.\")\n",
        "elif num<0:\n",
        "  print(num, \"is a Negative number.\")\n",
        "else:\n",
        "  print(\"num=0\")\n",
        "print(\"This is always printed.\")"
      ],
      "metadata": {
        "colab": {
          "base_uri": "https://localhost:8080/"
        },
        "id": "3ndjjJT4QDxx",
        "outputId": "02c5436a-b673-4944-b023-a388ab85b945"
      },
      "execution_count": 9,
      "outputs": [
        {
          "output_type": "stream",
          "name": "stdout",
          "text": [
            "num=0\n",
            "This is always printed.\n"
          ]
        }
      ]
    },
    {
      "cell_type": "code",
      "source": [
        "num = 100\n",
        "if num > 0:\n",
        "    print(num, \"is a positive number.\")\n",
        "elif num<0:\n",
        "  print(num, \"is a Negative number.\")\n",
        "else:\n",
        "  print(\"num=0\")\n",
        "print(\"This is always printed.\")"
      ],
      "metadata": {
        "colab": {
          "base_uri": "https://localhost:8080/"
        },
        "id": "MPRBtFWTRWcO",
        "outputId": "7d6d34bd-11f2-4432-b0cf-d80eb1aeffe3"
      },
      "execution_count": 10,
      "outputs": [
        {
          "output_type": "stream",
          "name": "stdout",
          "text": [
            "100 is a positive number.\n",
            "This is always printed.\n"
          ]
        }
      ]
    },
    {
      "cell_type": "code",
      "source": [
        "num = -80\n",
        "if num > 0:\n",
        "    print(num, \"is a positive number.\")\n",
        "elif num<0:\n",
        "  print(num, \"is a Negative number.\")\n",
        "else:\n",
        "  print(\"num=0\")\n",
        "print(\"This is always printed.\")"
      ],
      "metadata": {
        "colab": {
          "base_uri": "https://localhost:8080/"
        },
        "id": "mUmzdUTBRv6l",
        "outputId": "73a4a9ef-6f2f-4ac3-f79c-1c945ff85bc5"
      },
      "execution_count": 11,
      "outputs": [
        {
          "output_type": "stream",
          "name": "stdout",
          "text": [
            "-80 is a Negative number.\n",
            "This is always printed.\n"
          ]
        }
      ]
    },
    {
      "cell_type": "markdown",
      "source": [
        "for loop"
      ],
      "metadata": {
        "id": "9AtpZkEWSRkA"
      }
    },
    {
      "cell_type": "code",
      "source": [
        "a = int(input(\"enter no.:\"))\n",
        "prime = True\n",
        "for  i in range(2,a):\n",
        "    if a%i==0 :\n",
        "        prime= False\n",
        "        break\n",
        "if prime:\n",
        "    print(a,\"is a prime no.\")\n",
        "else:\n",
        "    print(a,\"is not a prime no.\")"
      ],
      "metadata": {
        "colab": {
          "base_uri": "https://localhost:8080/"
        },
        "id": "-PT66PwCR1yX",
        "outputId": "af1f91c8-e972-41a4-9df3-4f285b6a7582"
      },
      "execution_count": 12,
      "outputs": [
        {
          "output_type": "stream",
          "name": "stdout",
          "text": [
            "enter no.:23\n",
            "23 is a prime no.\n"
          ]
        }
      ]
    },
    {
      "cell_type": "markdown",
      "source": [
        "Sum of Natural number"
      ],
      "metadata": {
        "id": "qsH6wr9PSeUA"
      }
    },
    {
      "cell_type": "code",
      "source": [
        "num = int(input(\"Enter no :\"))\n",
        "sum =0\n",
        "for i in range(1,num+1):\n",
        "    sum= sum+i\n",
        "print(sum,\"is sum of natural no till \",num)"
      ],
      "metadata": {
        "colab": {
          "base_uri": "https://localhost:8080/"
        },
        "id": "PEgsK6eKSXFr",
        "outputId": "9fe5f7a4-df6f-4516-8a09-2f585dd9c55f"
      },
      "execution_count": 13,
      "outputs": [
        {
          "output_type": "stream",
          "name": "stdout",
          "text": [
            "Enter no :10\n",
            "55 is sum of natural no till  10\n"
          ]
        }
      ]
    }
  ]
}